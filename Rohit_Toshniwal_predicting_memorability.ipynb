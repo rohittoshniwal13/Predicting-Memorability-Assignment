{
  "nbformat": 4,
  "nbformat_minor": 0,
  "metadata": {
    "colab": {
      "name": "Rohit_Toshniwal_19211138_predicting_memorability.ipynb",
      "provenance": []
    },
    "kernelspec": {
      "name": "python3",
      "display_name": "Python 3"
    }
  },
  "cells": [
    {
      "cell_type": "code",
      "metadata": {
        "id": "-C10RP2iNdYW",
        "colab_type": "code",
        "outputId": "82b25d98-9e4f-489d-e8a7-634fba60d2e5",
        "colab": {
          "base_uri": "https://localhost:8080/",
          "height": 122
        }
      },
      "source": [
        "from google.colab import drive\n",
        "drive.mount(\"/content/gdrive/\")"
      ],
      "execution_count": 0,
      "outputs": [
        {
          "output_type": "stream",
          "text": [
            "Go to this URL in a browser: https://accounts.google.com/o/oauth2/auth?client_id=947318989803-6bn6qk8qdgf4n4g3pfee6491hc0brc4i.apps.googleusercontent.com&redirect_uri=urn%3aietf%3awg%3aoauth%3a2.0%3aoob&response_type=code&scope=email%20https%3a%2f%2fwww.googleapis.com%2fauth%2fdocs.test%20https%3a%2f%2fwww.googleapis.com%2fauth%2fdrive%20https%3a%2f%2fwww.googleapis.com%2fauth%2fdrive.photos.readonly%20https%3a%2f%2fwww.googleapis.com%2fauth%2fpeopleapi.readonly\n",
            "\n",
            "Enter your authorization code:\n",
            "··········\n",
            "Mounted at /content/gdrive/\n"
          ],
          "name": "stdout"
        }
      ]
    },
    {
      "cell_type": "code",
      "metadata": {
        "id": "6sb28ExkNf5c",
        "colab_type": "code",
        "colab": {}
      },
      "source": [
        "import os\n"
      ],
      "execution_count": 0,
      "outputs": []
    },
    {
      "cell_type": "code",
      "metadata": {
        "id": "rptD_IcON0Px",
        "colab_type": "code",
        "colab": {}
      },
      "source": [
        "os.chdir('gdrive/My Drive/CA684_Assignment/')"
      ],
      "execution_count": 0,
      "outputs": []
    },
    {
      "cell_type": "code",
      "metadata": {
        "id": "77DLQNoON2dN",
        "colab_type": "code",
        "outputId": "012f2e16-431e-42a8-f323-da1b050abaae",
        "colab": {
          "base_uri": "https://localhost:8080/",
          "height": 85
        }
      },
      "source": [
        "!pip install pyprind"
      ],
      "execution_count": 0,
      "outputs": [
        {
          "output_type": "stream",
          "text": [
            "Collecting pyprind\n",
            "  Downloading https://files.pythonhosted.org/packages/1e/30/e76fb0c45da8aef49ea8d2a90d4e7a6877b45894c25f12fb961f009a891e/PyPrind-2.11.2-py3-none-any.whl\n",
            "Installing collected packages: pyprind\n",
            "Successfully installed pyprind-2.11.2\n"
          ],
          "name": "stdout"
        }
      ]
    },
    {
      "cell_type": "code",
      "metadata": {
        "id": "t7IIC6-sN4a6",
        "colab_type": "code",
        "colab": {}
      },
      "source": [
        "import pandas as pd\n",
        "import numpy as np\n",
        "from string import punctuation\n",
        "import pyprind\n",
        "from collections import Counter\n",
        "from sklearn.model_selection import train_test_split\n",
        "import matplotlib.pyplot as plt\n",
        "import glob\n",
        "import nltk"
      ],
      "execution_count": 0,
      "outputs": []
    },
    {
      "cell_type": "code",
      "metadata": {
        "id": "82dTcOUKN7Si",
        "colab_type": "code",
        "colab": {}
      },
      "source": [
        "#Function to load C3D features\n",
        "def load_c3d(captions, c3dPath):\n",
        "    files = list(captions[\"video\"].values)\n",
        "    c3dfeatures = []\n",
        "    for file in files:\n",
        "        file = c3dPath+file[:-4]+'txt'\n",
        "        c3dfeatures.append(np.loadtxt(file))\n",
        "    #print(type(c3dfeatures))\n",
        "    return c3dfeatures\n",
        "\n",
        "#Function to load HMP features\n",
        "def load_hmp(captions, hmp_path):\n",
        "    files = list(captions[\"video\"].values)\n",
        "    hmp_features = []\n",
        "    for file in files:\n",
        "        file = hmp_path+file[:-4]+'txt'\n",
        "        with open(file) as f:\n",
        "            for line in f:\n",
        "                pairs=line.split()\n",
        "                HMP_temp = { int(p.split(':')[0]) : float(p.split(':')[1]) for p in pairs}\n",
        "                HMP = np.zeros(6075)\n",
        "            for idx in HMP_temp.keys():\n",
        "                HMP[idx-1] = HMP_temp[idx]\n",
        "            hmp_features.append(HMP)\n",
        "    return hmp_features\n",
        "\n",
        "#Function to load the captions into dataframes\n",
        "def load_captions(filename):\n",
        "    video_name = []\n",
        "    captions = []\n",
        "    dataframe = pd.DataFrame()\n",
        "    with open(filename) as file:\n",
        "        for line in file:\n",
        "            pair = line.split() #each line in the text file contains to words so, this code will split them into two words\n",
        "            video_name.append(pair[0]) #first word will be assigned as video name\n",
        "            captions.append(pair[1]) #second word will be assigned as caption\n",
        "        dataframe['video']=video_name #setting these two as column names of dataframe\n",
        "        dataframe['caption']=captions\n",
        "    return dataframe\n",
        "\n",
        "#Function to calculate Spearman coefficient scores\n",
        "def Get_score(Y_pred,Y_true):\n",
        "    '''Calculate the Spearmann\"s correlation coefficient'''\n",
        "    Y_pred = np.squeeze(Y_pred)\n",
        "    Y_true = np.squeeze(Y_true)\n",
        "    if Y_pred.shape != Y_true.shape:\n",
        "        print('Input shapes don\\'t match!')\n",
        "    else:\n",
        "        if len(Y_pred.shape) == 1:\n",
        "            Res = pd.DataFrame({'Y_true':Y_true,'Y_pred':Y_pred})\n",
        "            score_mat = Res[['Y_true','Y_pred']].corr(method='spearman',min_periods=1)\n",
        "            print('The Spearman\\'s correlation coefficient is: %.3f' % score_mat.iloc[1][0])\n",
        "        else:\n",
        "            for ii in range(Y_pred.shape[1]):\n",
        "                Get_score(Y_pred[:,ii],Y_true[:,ii])"
      ],
      "execution_count": 0,
      "outputs": []
    },
    {
      "cell_type": "code",
      "metadata": {
        "id": "3Xv9_6yeONP8",
        "colab_type": "code",
        "colab": {}
      },
      "source": [
        "#load the ground truth dataset\n",
        "GroundTruth_csv_path ='./Dev-set/Ground-truth/'\n",
        "dataset = pd.read_csv(GroundTruth_csv_path+'ground-truth.csv')"
      ],
      "execution_count": 0,
      "outputs": []
    },
    {
      "cell_type": "code",
      "metadata": {
        "id": "acysft4IONyc",
        "colab_type": "code",
        "colab": {}
      },
      "source": [
        "#load captions\n",
        "captions_path ='./Dev-set/Captions/dev-set_video-captions.txt'\n",
        "captions = load_captions(captions_path)"
      ],
      "execution_count": 0,
      "outputs": []
    },
    {
      "cell_type": "code",
      "metadata": {
        "id": "ZptcxyKUOPyY",
        "colab_type": "code",
        "colab": {}
      },
      "source": [
        "#load C3D features\n",
        "c3dPath = './Dev-set/C3D/'\n",
        "c3dfeatures = load_c3d(captions,c3dPath)"
      ],
      "execution_count": 0,
      "outputs": []
    },
    {
      "cell_type": "code",
      "metadata": {
        "id": "lm6EUdjbOUoH",
        "colab_type": "code",
        "colab": {}
      },
      "source": [
        "#load HMP features\n",
        "hmp_path = './Dev-set/HMP/'\n",
        "hmp_features = load_hmp(captions,hmp_path)"
      ],
      "execution_count": 0,
      "outputs": []
    },
    {
      "cell_type": "code",
      "metadata": {
        "id": "q5bhoQEtOXfE",
        "colab_type": "code",
        "outputId": "6dd33824-3a0a-4147-9261-c914c77419eb",
        "colab": {
          "base_uri": "https://localhost:8080/",
          "height": 204
        }
      },
      "source": [
        "dataset.head()"
      ],
      "execution_count": 0,
      "outputs": [
        {
          "output_type": "execute_result",
          "data": {
            "text/html": [
              "<div>\n",
              "<style scoped>\n",
              "    .dataframe tbody tr th:only-of-type {\n",
              "        vertical-align: middle;\n",
              "    }\n",
              "\n",
              "    .dataframe tbody tr th {\n",
              "        vertical-align: top;\n",
              "    }\n",
              "\n",
              "    .dataframe thead th {\n",
              "        text-align: right;\n",
              "    }\n",
              "</style>\n",
              "<table border=\"1\" class=\"dataframe\">\n",
              "  <thead>\n",
              "    <tr style=\"text-align: right;\">\n",
              "      <th></th>\n",
              "      <th>video</th>\n",
              "      <th>short-term_memorability</th>\n",
              "      <th>nb_short-term_annotations</th>\n",
              "      <th>long-term_memorability</th>\n",
              "      <th>nb_long-term_annotations</th>\n",
              "    </tr>\n",
              "  </thead>\n",
              "  <tbody>\n",
              "    <tr>\n",
              "      <th>0</th>\n",
              "      <td>video3.webm</td>\n",
              "      <td>0.924</td>\n",
              "      <td>34</td>\n",
              "      <td>0.846</td>\n",
              "      <td>13</td>\n",
              "    </tr>\n",
              "    <tr>\n",
              "      <th>1</th>\n",
              "      <td>video4.webm</td>\n",
              "      <td>0.923</td>\n",
              "      <td>33</td>\n",
              "      <td>0.667</td>\n",
              "      <td>12</td>\n",
              "    </tr>\n",
              "    <tr>\n",
              "      <th>2</th>\n",
              "      <td>video6.webm</td>\n",
              "      <td>0.863</td>\n",
              "      <td>33</td>\n",
              "      <td>0.700</td>\n",
              "      <td>10</td>\n",
              "    </tr>\n",
              "    <tr>\n",
              "      <th>3</th>\n",
              "      <td>video8.webm</td>\n",
              "      <td>0.922</td>\n",
              "      <td>33</td>\n",
              "      <td>0.818</td>\n",
              "      <td>11</td>\n",
              "    </tr>\n",
              "    <tr>\n",
              "      <th>4</th>\n",
              "      <td>video10.webm</td>\n",
              "      <td>0.950</td>\n",
              "      <td>34</td>\n",
              "      <td>0.900</td>\n",
              "      <td>10</td>\n",
              "    </tr>\n",
              "  </tbody>\n",
              "</table>\n",
              "</div>"
            ],
            "text/plain": [
              "          video  ...  nb_long-term_annotations\n",
              "0   video3.webm  ...                        13\n",
              "1   video4.webm  ...                        12\n",
              "2   video6.webm  ...                        10\n",
              "3   video8.webm  ...                        11\n",
              "4  video10.webm  ...                        10\n",
              "\n",
              "[5 rows x 5 columns]"
            ]
          },
          "metadata": {
            "tags": []
          },
          "execution_count": 16
        }
      ]
    },
    {
      "cell_type": "code",
      "metadata": {
        "id": "RZw_eJf1pg82",
        "colab_type": "code",
        "outputId": "ba33585e-e3e0-4c0d-8db1-90d8a822d418",
        "colab": {
          "base_uri": "https://localhost:8080/",
          "height": 85
        }
      },
      "source": [
        "#shape of the dataframes\n",
        "print(f'Ground Truth : {dataset.shape}')\n",
        "print(f'Dev Captions : {captions.shape}')\n",
        "print(f'C3D          : ({len(c3dfeatures)})')\n",
        "print(f'HMP          : ({len(hmp_features)})')"
      ],
      "execution_count": 0,
      "outputs": [
        {
          "output_type": "stream",
          "text": [
            "Ground Truth : (6000, 5)\n",
            "Dev Captions : (6000, 2)\n",
            "C3D          : (6000)\n",
            "HMP          : (6000)\n"
          ],
          "name": "stdout"
        }
      ]
    },
    {
      "cell_type": "code",
      "metadata": {
        "id": "osq19uadplCp",
        "colab_type": "code",
        "outputId": "2c59ad01-be7c-4168-a32c-9f3793f7f9d8",
        "colab": {
          "base_uri": "https://localhost:8080/",
          "height": 68
        }
      },
      "source": [
        "#loading the nltk stopwords of English\n",
        "nltk.download('stopwords')\n",
        "stopwords = nltk.corpus.stopwords.words('english')\n",
        "print(f'Length of Stopwords: {len(stopwords)}')"
      ],
      "execution_count": 0,
      "outputs": [
        {
          "output_type": "stream",
          "text": [
            "[nltk_data] Downloading package stopwords to /root/nltk_data...\n",
            "[nltk_data]   Unzipping corpora/stopwords.zip.\n",
            "Length of Stopwords: 179\n"
          ],
          "name": "stdout"
        }
      ]
    },
    {
      "cell_type": "code",
      "metadata": {
        "id": "7iXlfvU7poxc",
        "colab_type": "code",
        "outputId": "887ab612-6c07-4cf0-e12f-5bc3e50b78dc",
        "colab": {
          "base_uri": "https://localhost:8080/",
          "height": 68
        }
      },
      "source": [
        "#Removing punctuations and stop words from captions\n",
        "# setup prograss tracker\n",
        "pbar = pyprind.ProgBar(len(captions['caption']), title='Counting word occurrences')\n",
        "for i, cap in enumerate(captions['caption']):\n",
        "    # replace punctuations with space\n",
        "    # convert words to lower case \n",
        "    text = ''.join([c if c not in punctuation else ' ' for c in cap]).lower()\n",
        "    #removing stopwords\n",
        "    rmv_stopwords= ' '.join([word for word in text.split() if word not in stopwords])\n",
        "    captions.loc[i,'caption'] = rmv_stopwords #updating the original captions \n",
        "    pbar.update()"
      ],
      "execution_count": 0,
      "outputs": [
        {
          "output_type": "stream",
          "text": [
            "Counting word occurrences\n",
            "0% [##############################] 100% | ETA: 00:00:00\n",
            "Total time elapsed: 00:00:01\n"
          ],
          "name": "stderr"
        }
      ]
    },
    {
      "cell_type": "code",
      "metadata": {
        "id": "uGUDJoYNpsqu",
        "colab_type": "code",
        "outputId": "976dec29-9e40-48e5-f1fb-594e8a471bd1",
        "colab": {
          "base_uri": "https://localhost:8080/",
          "height": 34
        }
      },
      "source": [
        "#implementing bag of words for the combined captions\n",
        "from sklearn.feature_extraction.text import CountVectorizer\n",
        "vectorizer = CountVectorizer(analyzer = \"word\",max_features=3112) \n",
        "captions_bag = vectorizer.fit_transform(captions.caption).toarray()\n",
        "type(captions_bag)"
      ],
      "execution_count": 0,
      "outputs": [
        {
          "output_type": "execute_result",
          "data": {
            "text/plain": [
              "numpy.ndarray"
            ]
          },
          "metadata": {
            "tags": []
          },
          "execution_count": 21
        }
      ]
    },
    {
      "cell_type": "code",
      "metadata": {
        "id": "1GsoyMV-p0BZ",
        "colab_type": "code",
        "outputId": "4ff8f120-ce74-4300-a7f8-243fbdf4d198",
        "colab": {
          "base_uri": "https://localhost:8080/",
          "height": 34
        }
      },
      "source": [
        "captions_bag.shape"
      ],
      "execution_count": 0,
      "outputs": [
        {
          "output_type": "execute_result",
          "data": {
            "text/plain": [
              "(6000, 3112)"
            ]
          },
          "metadata": {
            "tags": []
          },
          "execution_count": 22
        }
      ]
    },
    {
      "cell_type": "code",
      "metadata": {
        "id": "09YDMiRvp9BJ",
        "colab_type": "code",
        "colab": {}
      },
      "source": [
        "#Combining Captions and C3D into a single Vector\n",
        "captions_c3d = (captions_bag.tolist())\n",
        "counter = 0\n",
        "for item in range(6000):\n",
        "    captions_c3d[counter] = np.append(captions_c3d[counter],c3dfeatures[counter],axis=0)\n",
        "    counter = counter+1"
      ],
      "execution_count": 0,
      "outputs": []
    },
    {
      "cell_type": "code",
      "metadata": {
        "id": "Ow5GKi-TqAx0",
        "colab_type": "code",
        "colab": {}
      },
      "source": [
        "#Combining Captions+C3D+HMP\n",
        "#Combining captions_c3d with HMP to form \n",
        "captions_c3d_hmp = captions_c3d\n",
        "counter = 0\n",
        "for item in range(6000):\n",
        "    captions_c3d_hmp[counter] = np.append(captions_c3d_hmp[counter],hmp_features[counter],axis=0)\n",
        "    counter = counter+1"
      ],
      "execution_count": 0,
      "outputs": []
    },
    {
      "cell_type": "code",
      "metadata": {
        "id": "NTsAumu0qE4t",
        "colab_type": "code",
        "colab": {}
      },
      "source": [
        "#Support vector Regression Model"
      ],
      "execution_count": 0,
      "outputs": []
    },
    {
      "cell_type": "code",
      "metadata": {
        "id": "dlM2A0nGqLkI",
        "colab_type": "code",
        "colab": {}
      },
      "source": [
        "#SVR with Captions\n"
      ],
      "execution_count": 0,
      "outputs": []
    },
    {
      "cell_type": "code",
      "metadata": {
        "id": "vL8uUgi6mkY8",
        "colab_type": "code",
        "colab": {}
      },
      "source": [
        "svr_X = captions_bag\n",
        "svr_y_short = dataset[['short-term_memorability']].values\n",
        "svr_y_long = dataset[['long-term_memorability']].values"
      ],
      "execution_count": 0,
      "outputs": []
    },
    {
      "cell_type": "code",
      "metadata": {
        "id": "fnJB2G6Ymk_m",
        "colab_type": "code",
        "colab": {}
      },
      "source": [
        "# Splitting the dataset into the Training set and Test set\n",
        "short_X_train,short_X_test,short_y_train,short_y_test = train_test_split(svr_X,svr_y_short,test_size=0.2,random_state=40)\n",
        "long_X_train,long_X_test,long_y_train,long_y_test = train_test_split(svr_X,svr_y_long,test_size=0.2,random_state=40)"
      ],
      "execution_count": 0,
      "outputs": []
    },
    {
      "cell_type": "code",
      "metadata": {
        "id": "yvYbpW78mnfD",
        "colab_type": "code",
        "colab": {}
      },
      "source": [
        "from sklearn.preprocessing import StandardScaler\n",
        "short_X = StandardScaler()\n",
        "short_y = StandardScaler()\n",
        "short_X_train = short_X.fit_transform(short_X_train)\n",
        "short_y_train = short_y.fit_transform(short_y_train)\n",
        "long_X = StandardScaler()\n",
        "long_y = StandardScaler()\n",
        "long_X_train = long_X.fit_transform(long_X_train)\n",
        "long_y_train = long_y.fit_transform(long_y_train)"
      ],
      "execution_count": 0,
      "outputs": []
    },
    {
      "cell_type": "code",
      "metadata": {
        "id": "A6xLjio-qlBw",
        "colab_type": "code",
        "outputId": "25d8adf1-e657-4b95-8b46-c931d80e097e",
        "colab": {
          "base_uri": "https://localhost:8080/",
          "height": 139
        }
      },
      "source": [
        "from sklearn.svm import SVR\n",
        "short_regressor = SVR(kernel = 'rbf')\n",
        "long_regressor = SVR(kernel = 'rbf')\n",
        "short_regressor.fit(short_X_train, short_y_train)\n",
        "long_regressor.fit(long_X_train,long_y_train)"
      ],
      "execution_count": 0,
      "outputs": [
        {
          "output_type": "stream",
          "text": [
            "/usr/local/lib/python3.6/dist-packages/sklearn/utils/validation.py:760: DataConversionWarning: A column-vector y was passed when a 1d array was expected. Please change the shape of y to (n_samples, ), for example using ravel().\n",
            "  y = column_or_1d(y, warn=True)\n",
            "/usr/local/lib/python3.6/dist-packages/sklearn/utils/validation.py:760: DataConversionWarning: A column-vector y was passed when a 1d array was expected. Please change the shape of y to (n_samples, ), for example using ravel().\n",
            "  y = column_or_1d(y, warn=True)\n"
          ],
          "name": "stderr"
        },
        {
          "output_type": "execute_result",
          "data": {
            "text/plain": [
              "SVR(C=1.0, cache_size=200, coef0=0.0, degree=3, epsilon=0.1, gamma='scale',\n",
              "    kernel='rbf', max_iter=-1, shrinking=True, tol=0.001, verbose=False)"
            ]
          },
          "metadata": {
            "tags": []
          },
          "execution_count": 32
        }
      ]
    },
    {
      "cell_type": "code",
      "metadata": {
        "id": "rd5ewEO8muIp",
        "colab_type": "code",
        "colab": {}
      },
      "source": [
        "short_pred = short_regressor.predict(short_X_test)\n",
        "short_pred = short_y.inverse_transform(short_pred)\n",
        "long_pred = long_regressor.predict(long_X_test)\n",
        "long_pred = long_y.inverse_transform(long_pred)"
      ],
      "execution_count": 0,
      "outputs": []
    },
    {
      "cell_type": "code",
      "metadata": {
        "id": "3t6lUk5bnr_3",
        "colab_type": "code",
        "outputId": "02e8eaec-6be9-4f2f-b6bb-9230509fa874",
        "colab": {
          "base_uri": "https://localhost:8080/",
          "height": 51
        }
      },
      "source": [
        "Get_score(short_pred, short_y_test)\n",
        "Get_score(long_pred, long_y_test)"
      ],
      "execution_count": 0,
      "outputs": [
        {
          "output_type": "stream",
          "text": [
            "The Spearman's correlation coefficient is: 0.338\n",
            "The Spearman's correlation coefficient is: 0.170\n"
          ],
          "name": "stdout"
        }
      ]
    },
    {
      "cell_type": "code",
      "metadata": {
        "id": "pMyxYRN7q1Br",
        "colab_type": "code",
        "colab": {}
      },
      "source": [
        "#Bayesian Ridge Regression"
      ],
      "execution_count": 0,
      "outputs": []
    },
    {
      "cell_type": "code",
      "metadata": {
        "id": "Jm-P9p_Yq2MM",
        "colab_type": "code",
        "colab": {}
      },
      "source": [
        ""
      ],
      "execution_count": 0,
      "outputs": []
    },
    {
      "cell_type": "code",
      "metadata": {
        "id": "0CAZgVDRon7w",
        "colab_type": "code",
        "colab": {}
      },
      "source": [
        "#BRR with captions\n",
        "brr_X = captions_bag\n",
        "brr_y_short = dataset[['short-term_memorability']].values\n",
        "brr_y_long = dataset[['long-term_memorability']].values"
      ],
      "execution_count": 0,
      "outputs": []
    },
    {
      "cell_type": "code",
      "metadata": {
        "id": "jWp5eCSWpWBo",
        "colab_type": "code",
        "colab": {}
      },
      "source": [
        "# Splitting the dataset into the Training set and Test set\n",
        "short_X_train,short_X_test,short_y_train,short_y_test = train_test_split(brr_X,brr_y_short,test_size=0.2,random_state=40)\n",
        "long_X_train,long_X_test,long_y_train,long_y_test = train_test_split(brr_X,brr_y_long,test_size=0.2,random_state=40)"
      ],
      "execution_count": 0,
      "outputs": []
    },
    {
      "cell_type": "code",
      "metadata": {
        "id": "I60-hNn_pkTR",
        "colab_type": "code",
        "colab": {}
      },
      "source": [
        "from sklearn.preprocessing import StandardScaler\n",
        "short_X = StandardScaler()\n",
        "short_y = StandardScaler()\n",
        "short_X_train = short_X.fit_transform(short_X_train)\n",
        "short_y_train = short_y.fit_transform(short_y_train)\n",
        "long_X = StandardScaler()\n",
        "long_y = StandardScaler()\n",
        "long_X_train = long_X.fit_transform(long_X_train)\n",
        "long_y_train = long_y.fit_transform(long_y_train)"
      ],
      "execution_count": 0,
      "outputs": []
    },
    {
      "cell_type": "code",
      "metadata": {
        "id": "bWcHoRQxqeQV",
        "colab_type": "code",
        "outputId": "3a171211-f5b3-4d47-bb7b-06b106d692da",
        "colab": {
          "base_uri": "https://localhost:8080/",
          "height": 173
        }
      },
      "source": [
        "from sklearn.linear_model import BayesianRidge\n",
        "short_regressor = BayesianRidge(compute_score=True)\n",
        "long_regressor = BayesianRidge(compute_score=True)\n",
        "short_regressor.fit(short_X_train, short_y_train)\n",
        "long_regressor.fit(long_X_train,long_y_train)"
      ],
      "execution_count": 0,
      "outputs": [
        {
          "output_type": "stream",
          "text": [
            "/usr/local/lib/python3.6/dist-packages/sklearn/utils/validation.py:760: DataConversionWarning: A column-vector y was passed when a 1d array was expected. Please change the shape of y to (n_samples, ), for example using ravel().\n",
            "  y = column_or_1d(y, warn=True)\n",
            "/usr/local/lib/python3.6/dist-packages/sklearn/utils/validation.py:760: DataConversionWarning: A column-vector y was passed when a 1d array was expected. Please change the shape of y to (n_samples, ), for example using ravel().\n",
            "  y = column_or_1d(y, warn=True)\n"
          ],
          "name": "stderr"
        },
        {
          "output_type": "execute_result",
          "data": {
            "text/plain": [
              "BayesianRidge(alpha_1=1e-06, alpha_2=1e-06, alpha_init=None, compute_score=True,\n",
              "              copy_X=True, fit_intercept=True, lambda_1=1e-06, lambda_2=1e-06,\n",
              "              lambda_init=None, n_iter=300, normalize=False, tol=0.001,\n",
              "              verbose=False)"
            ]
          },
          "metadata": {
            "tags": []
          },
          "execution_count": 39
        }
      ]
    },
    {
      "cell_type": "code",
      "metadata": {
        "id": "iu1gqg5NrKB2",
        "colab_type": "code",
        "colab": {}
      },
      "source": [
        "short_pred = short_regressor.predict(short_X_test)\n",
        "short_pred = short_y.inverse_transform(short_pred)\n",
        "long_pred = long_regressor.predict(long_X_test)\n",
        "long_pred = long_y.inverse_transform(long_pred)"
      ],
      "execution_count": 0,
      "outputs": []
    },
    {
      "cell_type": "code",
      "metadata": {
        "id": "Y5PGJH_ksYfW",
        "colab_type": "code",
        "outputId": "ca477f31-e0c6-4635-8a9f-9d191552cf1e",
        "colab": {
          "base_uri": "https://localhost:8080/",
          "height": 51
        }
      },
      "source": [
        "Get_score(short_pred, short_y_test)\n",
        "Get_score(long_pred, long_y_test)"
      ],
      "execution_count": 0,
      "outputs": [
        {
          "output_type": "stream",
          "text": [
            "The Spearman's correlation coefficient is: 0.368\n",
            "The Spearman's correlation coefficient is: 0.241\n"
          ],
          "name": "stdout"
        }
      ]
    },
    {
      "cell_type": "code",
      "metadata": {
        "id": "bPe1yO9jsqtA",
        "colab_type": "code",
        "colab": {}
      },
      "source": [
        "#SVR with C3D"
      ],
      "execution_count": 0,
      "outputs": []
    },
    {
      "cell_type": "code",
      "metadata": {
        "id": "W9eHXQWysr1m",
        "colab_type": "code",
        "colab": {}
      },
      "source": [
        "svr_X = c3dfeatures\n",
        "svr_y_short = dataset[['short-term_memorability']].values\n",
        "svr_y_long = dataset[['long-term_memorability']].values"
      ],
      "execution_count": 0,
      "outputs": []
    },
    {
      "cell_type": "code",
      "metadata": {
        "id": "B9ToNAL7stxw",
        "colab_type": "code",
        "colab": {}
      },
      "source": [
        "# Splitting the dataset into the Training set and Test set\n",
        "short_X_train,short_X_test,short_y_train,short_y_test = train_test_split(svr_X,svr_y_short,test_size=0.2,random_state=40)\n",
        "long_X_train,long_X_test,long_y_train,long_y_test = train_test_split(svr_X,svr_y_long,test_size=0.2,random_state=40)"
      ],
      "execution_count": 0,
      "outputs": []
    },
    {
      "cell_type": "code",
      "metadata": {
        "id": "jply71ZOswfS",
        "colab_type": "code",
        "colab": {}
      },
      "source": [
        "from sklearn.preprocessing import StandardScaler\n",
        "short_X = StandardScaler()\n",
        "short_y = StandardScaler()\n",
        "short_X_train = short_X.fit_transform(short_X_train)\n",
        "short_y_train = short_y.fit_transform(short_y_train)\n",
        "long_X = StandardScaler()\n",
        "long_y = StandardScaler()\n",
        "long_X_train = long_X.fit_transform(long_X_train)\n",
        "long_y_train = long_y.fit_transform(long_y_train)"
      ],
      "execution_count": 0,
      "outputs": []
    },
    {
      "cell_type": "code",
      "metadata": {
        "id": "i957R-8gsyt_",
        "colab_type": "code",
        "outputId": "6ffbe17e-68a7-4b79-9806-8831ab5f5297",
        "colab": {
          "base_uri": "https://localhost:8080/",
          "height": 139
        }
      },
      "source": [
        "from sklearn.svm import SVR\n",
        "short_regressor = SVR(kernel = 'rbf')\n",
        "long_regressor = SVR(kernel = 'rbf')\n",
        "short_regressor.fit(short_X_train, short_y_train)\n",
        "long_regressor.fit(long_X_train,long_y_train)"
      ],
      "execution_count": 0,
      "outputs": [
        {
          "output_type": "stream",
          "text": [
            "/usr/local/lib/python3.6/dist-packages/sklearn/utils/validation.py:760: DataConversionWarning: A column-vector y was passed when a 1d array was expected. Please change the shape of y to (n_samples, ), for example using ravel().\n",
            "  y = column_or_1d(y, warn=True)\n",
            "/usr/local/lib/python3.6/dist-packages/sklearn/utils/validation.py:760: DataConversionWarning: A column-vector y was passed when a 1d array was expected. Please change the shape of y to (n_samples, ), for example using ravel().\n",
            "  y = column_or_1d(y, warn=True)\n"
          ],
          "name": "stderr"
        },
        {
          "output_type": "execute_result",
          "data": {
            "text/plain": [
              "SVR(C=1.0, cache_size=200, coef0=0.0, degree=3, epsilon=0.1, gamma='scale',\n",
              "    kernel='rbf', max_iter=-1, shrinking=True, tol=0.001, verbose=False)"
            ]
          },
          "metadata": {
            "tags": []
          },
          "execution_count": 45
        }
      ]
    },
    {
      "cell_type": "code",
      "metadata": {
        "id": "s7yXSV-Os0_b",
        "colab_type": "code",
        "colab": {}
      },
      "source": [
        "short_pred = short_regressor.predict(short_X_test)\n",
        "short_pred = short_y.inverse_transform(short_pred)\n",
        "long_pred = long_regressor.predict(long_X_test)\n",
        "long_pred = long_y.inverse_transform(long_pred)"
      ],
      "execution_count": 0,
      "outputs": []
    },
    {
      "cell_type": "code",
      "metadata": {
        "id": "ZK91lCKjs_V0",
        "colab_type": "code",
        "outputId": "74716daa-5049-4995-b5d0-6d575d3f7f88",
        "colab": {
          "base_uri": "https://localhost:8080/",
          "height": 51
        }
      },
      "source": [
        "Get_score(short_pred, short_y_test)\n",
        "Get_score(long_pred, long_y_test)"
      ],
      "execution_count": 0,
      "outputs": [
        {
          "output_type": "stream",
          "text": [
            "The Spearman's correlation coefficient is: 0.242\n",
            "The Spearman's correlation coefficient is: 0.107\n"
          ],
          "name": "stdout"
        }
      ]
    },
    {
      "cell_type": "code",
      "metadata": {
        "id": "GwXNeprytCQ9",
        "colab_type": "code",
        "colab": {}
      },
      "source": [
        "#BRR with C3D"
      ],
      "execution_count": 0,
      "outputs": []
    },
    {
      "cell_type": "code",
      "metadata": {
        "id": "Ze5QwuVAtME3",
        "colab_type": "code",
        "colab": {}
      },
      "source": [
        "brr_X = c3dfeatures\n",
        "brr_y_short = dataset[['short-term_memorability']].values\n",
        "brr_y_long = dataset[['long-term_memorability']].values"
      ],
      "execution_count": 0,
      "outputs": []
    },
    {
      "cell_type": "code",
      "metadata": {
        "id": "6Vlbxw4ltUkB",
        "colab_type": "code",
        "colab": {}
      },
      "source": [
        "# Splitting the dataset into the Training set and Test set\n",
        "short_X_train,short_X_test,short_y_train,short_y_test = train_test_split(brr_X,brr_y_short,test_size=0.2,random_state=40)\n",
        "long_X_train,long_X_test,long_y_train,long_y_test = train_test_split(brr_X,brr_y_long,test_size=0.2,random_state=40)"
      ],
      "execution_count": 0,
      "outputs": []
    },
    {
      "cell_type": "code",
      "metadata": {
        "id": "0mJoeIcethqG",
        "colab_type": "code",
        "colab": {}
      },
      "source": [
        "from sklearn.preprocessing import StandardScaler\n",
        "short_X = StandardScaler()\n",
        "short_y = StandardScaler()\n",
        "short_X_train = short_X.fit_transform(short_X_train)\n",
        "short_y_train = short_y.fit_transform(short_y_train)\n",
        "long_X = StandardScaler()\n",
        "long_y = StandardScaler()\n",
        "long_X_train = long_X.fit_transform(long_X_train)\n",
        "long_y_train = long_y.fit_transform(long_y_train)"
      ],
      "execution_count": 0,
      "outputs": []
    },
    {
      "cell_type": "code",
      "metadata": {
        "id": "6cS3sTEFtjVn",
        "colab_type": "code",
        "outputId": "af286785-511c-4930-e959-ef968e60b0b9",
        "colab": {
          "base_uri": "https://localhost:8080/",
          "height": 173
        }
      },
      "source": [
        "from sklearn.linear_model import BayesianRidge\n",
        "short_regressor = BayesianRidge(compute_score=True)\n",
        "long_regressor = BayesianRidge(compute_score=True)\n",
        "short_regressor.fit(short_X_train, short_y_train)\n",
        "long_regressor.fit(long_X_train,long_y_train)"
      ],
      "execution_count": 0,
      "outputs": [
        {
          "output_type": "stream",
          "text": [
            "/usr/local/lib/python3.6/dist-packages/sklearn/utils/validation.py:760: DataConversionWarning: A column-vector y was passed when a 1d array was expected. Please change the shape of y to (n_samples, ), for example using ravel().\n",
            "  y = column_or_1d(y, warn=True)\n",
            "/usr/local/lib/python3.6/dist-packages/sklearn/utils/validation.py:760: DataConversionWarning: A column-vector y was passed when a 1d array was expected. Please change the shape of y to (n_samples, ), for example using ravel().\n",
            "  y = column_or_1d(y, warn=True)\n"
          ],
          "name": "stderr"
        },
        {
          "output_type": "execute_result",
          "data": {
            "text/plain": [
              "BayesianRidge(alpha_1=1e-06, alpha_2=1e-06, alpha_init=None, compute_score=True,\n",
              "              copy_X=True, fit_intercept=True, lambda_1=1e-06, lambda_2=1e-06,\n",
              "              lambda_init=None, n_iter=300, normalize=False, tol=0.001,\n",
              "              verbose=False)"
            ]
          },
          "metadata": {
            "tags": []
          },
          "execution_count": 55
        }
      ]
    },
    {
      "cell_type": "code",
      "metadata": {
        "id": "LCMMmA30tr2D",
        "colab_type": "code",
        "colab": {}
      },
      "source": [
        "short_pred = short_regressor.predict(short_X_test)\n",
        "short_pred = short_y.inverse_transform(short_pred)\n",
        "long_pred = long_regressor.predict(long_X_test)\n",
        "long_pred = long_y.inverse_transform(long_pred)"
      ],
      "execution_count": 0,
      "outputs": []
    },
    {
      "cell_type": "code",
      "metadata": {
        "id": "aI5aswKjtudg",
        "colab_type": "code",
        "outputId": "d5d9028e-f96f-4625-add3-3963542fe842",
        "colab": {
          "base_uri": "https://localhost:8080/",
          "height": 51
        }
      },
      "source": [
        "Get_score(short_pred, short_y_test)\n",
        "Get_score(long_pred, long_y_test)"
      ],
      "execution_count": 0,
      "outputs": [
        {
          "output_type": "stream",
          "text": [
            "The Spearman's correlation coefficient is: 0.286\n",
            "The Spearman's correlation coefficient is: 0.126\n"
          ],
          "name": "stdout"
        }
      ]
    },
    {
      "cell_type": "code",
      "metadata": {
        "id": "KEkJC621txRl",
        "colab_type": "code",
        "colab": {}
      },
      "source": [
        "#SVR with Captions and C3D"
      ],
      "execution_count": 0,
      "outputs": []
    },
    {
      "cell_type": "code",
      "metadata": {
        "id": "6lN4Ztp6t6cI",
        "colab_type": "code",
        "colab": {}
      },
      "source": [
        "svr_X = captions_c3d\n",
        "svr_y_short = dataset[['short-term_memorability']].values\n",
        "svr_y_long = dataset[['long-term_memorability']].values"
      ],
      "execution_count": 0,
      "outputs": []
    },
    {
      "cell_type": "code",
      "metadata": {
        "id": "0OU_-14wt8rW",
        "colab_type": "code",
        "colab": {}
      },
      "source": [
        "# Splitting the dataset into the Training set and Test set\n",
        "short_X_train,short_X_test,short_y_train,short_y_test = train_test_split(svr_X,svr_y_short,test_size=0.2,random_state=40)\n",
        "long_X_train,long_X_test,long_y_train,long_y_test = train_test_split(svr_X,svr_y_long,test_size=0.2,random_state=40)"
      ],
      "execution_count": 0,
      "outputs": []
    },
    {
      "cell_type": "code",
      "metadata": {
        "id": "n4kUSAMlt-o_",
        "colab_type": "code",
        "colab": {}
      },
      "source": [
        "from sklearn.preprocessing import StandardScaler\n",
        "short_X = StandardScaler()\n",
        "short_y = StandardScaler()\n",
        "short_X_train = short_X.fit_transform(short_X_train)\n",
        "short_y_train = short_y.fit_transform(short_y_train)\n",
        "long_X = StandardScaler()\n",
        "long_y = StandardScaler()\n",
        "long_X_train = long_X.fit_transform(long_X_train)\n",
        "long_y_train = long_y.fit_transform(long_y_train)"
      ],
      "execution_count": 0,
      "outputs": []
    },
    {
      "cell_type": "code",
      "metadata": {
        "id": "MiEXS2wyuAvF",
        "colab_type": "code",
        "outputId": "96bd9fc3-4f49-459c-ea05-5574e443bbc7",
        "colab": {
          "base_uri": "https://localhost:8080/",
          "height": 139
        }
      },
      "source": [
        "from sklearn.svm import SVR\n",
        "short_regressor = SVR(kernel = 'rbf')\n",
        "long_regressor = SVR(kernel = 'rbf')\n",
        "short_regressor.fit(short_X_train, short_y_train)\n",
        "long_regressor.fit(long_X_train,long_y_train)"
      ],
      "execution_count": 0,
      "outputs": [
        {
          "output_type": "stream",
          "text": [
            "/usr/local/lib/python3.6/dist-packages/sklearn/utils/validation.py:760: DataConversionWarning: A column-vector y was passed when a 1d array was expected. Please change the shape of y to (n_samples, ), for example using ravel().\n",
            "  y = column_or_1d(y, warn=True)\n",
            "/usr/local/lib/python3.6/dist-packages/sklearn/utils/validation.py:760: DataConversionWarning: A column-vector y was passed when a 1d array was expected. Please change the shape of y to (n_samples, ), for example using ravel().\n",
            "  y = column_or_1d(y, warn=True)\n"
          ],
          "name": "stderr"
        },
        {
          "output_type": "execute_result",
          "data": {
            "text/plain": [
              "SVR(C=1.0, cache_size=200, coef0=0.0, degree=3, epsilon=0.1, gamma='scale',\n",
              "    kernel='rbf', max_iter=-1, shrinking=True, tol=0.001, verbose=False)"
            ]
          },
          "metadata": {
            "tags": []
          },
          "execution_count": 62
        }
      ]
    },
    {
      "cell_type": "code",
      "metadata": {
        "id": "uSdiB7IPuCsO",
        "colab_type": "code",
        "colab": {}
      },
      "source": [
        "short_pred = short_regressor.predict(short_X_test)\n",
        "short_pred = short_y.inverse_transform(short_pred)\n",
        "long_pred = long_regressor.predict(long_X_test)\n",
        "long_pred = long_y.inverse_transform(long_pred)"
      ],
      "execution_count": 0,
      "outputs": []
    },
    {
      "cell_type": "code",
      "metadata": {
        "id": "ZCwAAI_qwjl8",
        "colab_type": "code",
        "outputId": "a330ed70-3a32-40ec-f9e6-7c2252008124",
        "colab": {
          "base_uri": "https://localhost:8080/",
          "height": 51
        }
      },
      "source": [
        "Get_score(short_pred, short_y_test)\n",
        "Get_score(long_pred, long_y_test)"
      ],
      "execution_count": 0,
      "outputs": [
        {
          "output_type": "stream",
          "text": [
            "The Spearman's correlation coefficient is: 0.355\n",
            "The Spearman's correlation coefficient is: 0.179\n"
          ],
          "name": "stdout"
        }
      ]
    },
    {
      "cell_type": "code",
      "metadata": {
        "id": "7wvn0_0hxcwz",
        "colab_type": "code",
        "colab": {}
      },
      "source": [
        "#BRR with Captions and C3D"
      ],
      "execution_count": 0,
      "outputs": []
    },
    {
      "cell_type": "code",
      "metadata": {
        "id": "mRJ_hYfVxfKL",
        "colab_type": "code",
        "colab": {}
      },
      "source": [
        "brr_X = captions_c3d\n",
        "brr_y_short = dataset[['short-term_memorability']].values\n",
        "brr_y_long = dataset[['long-term_memorability']].values"
      ],
      "execution_count": 0,
      "outputs": []
    },
    {
      "cell_type": "code",
      "metadata": {
        "id": "Rby_vor8xjG2",
        "colab_type": "code",
        "colab": {}
      },
      "source": [
        "# Splitting the dataset into the Training set and Test set\n",
        "short_X_train,short_X_test,short_y_train,short_y_test = train_test_split(brr_X,brr_y_short,test_size=0.2,random_state=40)\n",
        "long_X_train,long_X_test,long_y_train,long_y_test = train_test_split(brr_X,brr_y_long,test_size=0.2,random_state=40)"
      ],
      "execution_count": 0,
      "outputs": []
    },
    {
      "cell_type": "code",
      "metadata": {
        "id": "UMP7QY68xnV2",
        "colab_type": "code",
        "colab": {}
      },
      "source": [
        "from sklearn.preprocessing import StandardScaler\n",
        "short_X = StandardScaler()\n",
        "short_y = StandardScaler()\n",
        "short_X_train = short_X.fit_transform(short_X_train)\n",
        "short_y_train = short_y.fit_transform(short_y_train)\n",
        "long_X = StandardScaler()\n",
        "long_y = StandardScaler()\n",
        "long_X_train = long_X.fit_transform(long_X_train)\n",
        "long_y_train = long_y.fit_transform(long_y_train)"
      ],
      "execution_count": 0,
      "outputs": []
    },
    {
      "cell_type": "code",
      "metadata": {
        "id": "4pcGgPHIx5MX",
        "colab_type": "code",
        "outputId": "168b5619-9b78-4e0e-eecb-06aa5f73a826",
        "colab": {
          "base_uri": "https://localhost:8080/",
          "height": 173
        }
      },
      "source": [
        "from sklearn.linear_model import BayesianRidge\n",
        "short_regressor = BayesianRidge(compute_score=True)\n",
        "long_regressor = BayesianRidge(compute_score=True)\n",
        "short_regressor.fit(short_X_train, short_y_train)\n",
        "long_regressor.fit(long_X_train,long_y_train)"
      ],
      "execution_count": 0,
      "outputs": [
        {
          "output_type": "stream",
          "text": [
            "/usr/local/lib/python3.6/dist-packages/sklearn/utils/validation.py:760: DataConversionWarning: A column-vector y was passed when a 1d array was expected. Please change the shape of y to (n_samples, ), for example using ravel().\n",
            "  y = column_or_1d(y, warn=True)\n",
            "/usr/local/lib/python3.6/dist-packages/sklearn/utils/validation.py:760: DataConversionWarning: A column-vector y was passed when a 1d array was expected. Please change the shape of y to (n_samples, ), for example using ravel().\n",
            "  y = column_or_1d(y, warn=True)\n"
          ],
          "name": "stderr"
        },
        {
          "output_type": "execute_result",
          "data": {
            "text/plain": [
              "BayesianRidge(alpha_1=1e-06, alpha_2=1e-06, alpha_init=None, compute_score=True,\n",
              "              copy_X=True, fit_intercept=True, lambda_1=1e-06, lambda_2=1e-06,\n",
              "              lambda_init=None, n_iter=300, normalize=False, tol=0.001,\n",
              "              verbose=False)"
            ]
          },
          "metadata": {
            "tags": []
          },
          "execution_count": 69
        }
      ]
    },
    {
      "cell_type": "code",
      "metadata": {
        "id": "x3_lifRY7P3f",
        "colab_type": "code",
        "colab": {}
      },
      "source": [
        "short_pred = short_regressor.predict(short_X_test)\n",
        "short_pred = short_y.inverse_transform(short_pred)\n",
        "long_pred = long_regressor.predict(long_X_test)\n",
        "long_pred = long_y.inverse_transform(long_pred)"
      ],
      "execution_count": 0,
      "outputs": []
    },
    {
      "cell_type": "code",
      "metadata": {
        "id": "FlI0MpLc7bfM",
        "colab_type": "code",
        "outputId": "d646c005-e3fb-4ed8-a194-bbb5a50fb14c",
        "colab": {
          "base_uri": "https://localhost:8080/",
          "height": 51
        }
      },
      "source": [
        "Get_score(short_pred, short_y_test)\n",
        "Get_score(long_pred, long_y_test)"
      ],
      "execution_count": 0,
      "outputs": [
        {
          "output_type": "stream",
          "text": [
            "The Spearman's correlation coefficient is: 0.373\n",
            "The Spearman's correlation coefficient is: 0.228\n"
          ],
          "name": "stdout"
        }
      ]
    },
    {
      "cell_type": "code",
      "metadata": {
        "id": "WtwdRuRc7src",
        "colab_type": "code",
        "colab": {}
      },
      "source": [
        "#SVR with Captions, C3D and HMP"
      ],
      "execution_count": 0,
      "outputs": []
    },
    {
      "cell_type": "code",
      "metadata": {
        "id": "nJJSbct87tmw",
        "colab_type": "code",
        "colab": {}
      },
      "source": [
        "svr_X = captions_c3d_hmp\n",
        "svr_y_short = dataset[['short-term_memorability']].values\n",
        "svr_y_long = dataset[['long-term_memorability']].values"
      ],
      "execution_count": 0,
      "outputs": []
    },
    {
      "cell_type": "code",
      "metadata": {
        "id": "kYeIT5ts7v2s",
        "colab_type": "code",
        "colab": {}
      },
      "source": [
        "# Splitting the dataset into the Training set and Test set\n",
        "short_X_train,short_X_test,short_y_train,short_y_test = train_test_split(svr_X,svr_y_short,test_size=0.2,random_state=40)\n",
        "long_X_train,long_X_test,long_y_train,long_y_test = train_test_split(svr_X,svr_y_long,test_size=0.2,random_state=40)"
      ],
      "execution_count": 0,
      "outputs": []
    },
    {
      "cell_type": "code",
      "metadata": {
        "id": "XnE8XTG57zsK",
        "colab_type": "code",
        "colab": {}
      },
      "source": [
        "from sklearn.preprocessing import StandardScaler\n",
        "short_X = StandardScaler()\n",
        "short_y = StandardScaler()\n",
        "short_X_train = short_X.fit_transform(short_X_train)\n",
        "short_y_train = short_y.fit_transform(short_y_train)\n",
        "long_X = StandardScaler()\n",
        "long_y = StandardScaler()\n",
        "long_X_train = long_X.fit_transform(long_X_train)\n",
        "long_y_train = long_y.fit_transform(long_y_train)"
      ],
      "execution_count": 0,
      "outputs": []
    },
    {
      "cell_type": "code",
      "metadata": {
        "id": "LLFoVEK-751l",
        "colab_type": "code",
        "outputId": "c106207c-e9e9-4dfd-b70e-b9ec5dcbe4d2",
        "colab": {
          "base_uri": "https://localhost:8080/",
          "height": 139
        }
      },
      "source": [
        "from sklearn.svm import SVR\n",
        "short_regressor = SVR(kernel = 'rbf')\n",
        "long_regressor = SVR(kernel = 'rbf')\n",
        "short_regressor.fit(short_X_train, short_y_train)\n",
        "long_regressor.fit(long_X_train,long_y_train)"
      ],
      "execution_count": 0,
      "outputs": [
        {
          "output_type": "stream",
          "text": [
            "/usr/local/lib/python3.6/dist-packages/sklearn/utils/validation.py:760: DataConversionWarning: A column-vector y was passed when a 1d array was expected. Please change the shape of y to (n_samples, ), for example using ravel().\n",
            "  y = column_or_1d(y, warn=True)\n",
            "/usr/local/lib/python3.6/dist-packages/sklearn/utils/validation.py:760: DataConversionWarning: A column-vector y was passed when a 1d array was expected. Please change the shape of y to (n_samples, ), for example using ravel().\n",
            "  y = column_or_1d(y, warn=True)\n"
          ],
          "name": "stderr"
        },
        {
          "output_type": "execute_result",
          "data": {
            "text/plain": [
              "SVR(C=1.0, cache_size=200, coef0=0.0, degree=3, epsilon=0.1, gamma='scale',\n",
              "    kernel='rbf', max_iter=-1, shrinking=True, tol=0.001, verbose=False)"
            ]
          },
          "metadata": {
            "tags": []
          },
          "execution_count": 76
        }
      ]
    },
    {
      "cell_type": "code",
      "metadata": {
        "id": "bmjPcFG-795Y",
        "colab_type": "code",
        "colab": {}
      },
      "source": [
        "short_pred = short_regressor.predict(short_X_test)\n",
        "short_pred = short_y.inverse_transform(short_pred)\n",
        "long_pred = long_regressor.predict(long_X_test)\n",
        "long_pred = long_y.inverse_transform(long_pred)"
      ],
      "execution_count": 0,
      "outputs": []
    },
    {
      "cell_type": "code",
      "metadata": {
        "id": "aH4vp8b--hf_",
        "colab_type": "code",
        "outputId": "db4eaf0d-7904-475d-da03-719a62c0573b",
        "colab": {
          "base_uri": "https://localhost:8080/",
          "height": 51
        }
      },
      "source": [
        "Get_score(short_pred, short_y_test)\n",
        "Get_score(long_pred, long_y_test)"
      ],
      "execution_count": 0,
      "outputs": [
        {
          "output_type": "stream",
          "text": [
            "The Spearman's correlation coefficient is: 0.355\n",
            "The Spearman's correlation coefficient is: 0.179\n"
          ],
          "name": "stdout"
        }
      ]
    },
    {
      "cell_type": "code",
      "metadata": {
        "id": "dnmSvx38_VZ4",
        "colab_type": "code",
        "colab": {}
      },
      "source": [
        "#BRR with Captions, C3D and HMP"
      ],
      "execution_count": 0,
      "outputs": []
    },
    {
      "cell_type": "code",
      "metadata": {
        "id": "QaXNalg7_W9o",
        "colab_type": "code",
        "colab": {}
      },
      "source": [
        "brr_X = captions_c3d_hmp\n",
        "brr_y_short = dataset[['short-term_memorability']].values\n",
        "brr_y_long = dataset[['long-term_memorability']].values"
      ],
      "execution_count": 0,
      "outputs": []
    },
    {
      "cell_type": "code",
      "metadata": {
        "id": "rX7fqbYw_g0T",
        "colab_type": "code",
        "colab": {}
      },
      "source": [
        "# Splitting the dataset into the Training set and Test set\n",
        "short_X_train,short_X_test,short_y_train,short_y_test = train_test_split(brr_X,brr_y_short,test_size=0.2,random_state=40)\n",
        "long_X_train,long_X_test,long_y_train,long_y_test = train_test_split(brr_X,brr_y_long,test_size=0.2,random_state=40)"
      ],
      "execution_count": 0,
      "outputs": []
    },
    {
      "cell_type": "code",
      "metadata": {
        "id": "y8cv2EJY_pEh",
        "colab_type": "code",
        "colab": {}
      },
      "source": [
        "from sklearn.preprocessing import StandardScaler\n",
        "short_X = StandardScaler()\n",
        "short_y = StandardScaler()\n",
        "short_X_train = short_X.fit_transform(short_X_train)\n",
        "short_y_train = short_y.fit_transform(short_y_train)\n",
        "long_X = StandardScaler()\n",
        "long_y = StandardScaler()\n",
        "long_X_train = long_X.fit_transform(long_X_train)\n",
        "long_y_train = long_y.fit_transform(long_y_train)"
      ],
      "execution_count": 0,
      "outputs": []
    },
    {
      "cell_type": "code",
      "metadata": {
        "id": "nqm4xXnq_s_5",
        "colab_type": "code",
        "outputId": "a2ee2113-d7d9-4aff-eb60-195b067a2fd2",
        "colab": {
          "base_uri": "https://localhost:8080/",
          "height": 173
        }
      },
      "source": [
        "from sklearn.linear_model import BayesianRidge\n",
        "short_regressor = BayesianRidge(compute_score=True)\n",
        "long_regressor = BayesianRidge(compute_score=True)\n",
        "short_regressor.fit(short_X_train, short_y_train)\n",
        "long_regressor.fit(long_X_train,long_y_train)"
      ],
      "execution_count": 0,
      "outputs": [
        {
          "output_type": "stream",
          "text": [
            "/usr/local/lib/python3.6/dist-packages/sklearn/utils/validation.py:760: DataConversionWarning: A column-vector y was passed when a 1d array was expected. Please change the shape of y to (n_samples, ), for example using ravel().\n",
            "  y = column_or_1d(y, warn=True)\n",
            "/usr/local/lib/python3.6/dist-packages/sklearn/utils/validation.py:760: DataConversionWarning: A column-vector y was passed when a 1d array was expected. Please change the shape of y to (n_samples, ), for example using ravel().\n",
            "  y = column_or_1d(y, warn=True)\n"
          ],
          "name": "stderr"
        },
        {
          "output_type": "execute_result",
          "data": {
            "text/plain": [
              "BayesianRidge(alpha_1=1e-06, alpha_2=1e-06, alpha_init=None, compute_score=True,\n",
              "              copy_X=True, fit_intercept=True, lambda_1=1e-06, lambda_2=1e-06,\n",
              "              lambda_init=None, n_iter=300, normalize=False, tol=0.001,\n",
              "              verbose=False)"
            ]
          },
          "metadata": {
            "tags": []
          },
          "execution_count": 82
        }
      ]
    },
    {
      "cell_type": "code",
      "metadata": {
        "id": "PyBvjOlX_1AK",
        "colab_type": "code",
        "colab": {}
      },
      "source": [
        "short_pred = short_regressor.predict(short_X_test)\n",
        "short_pred = short_y.inverse_transform(short_pred)\n",
        "long_pred = long_regressor.predict(long_X_test)\n",
        "long_pred = long_y.inverse_transform(long_pred)"
      ],
      "execution_count": 0,
      "outputs": []
    },
    {
      "cell_type": "code",
      "metadata": {
        "id": "stJdA0GqI0p2",
        "colab_type": "code",
        "outputId": "941be908-d0b0-4ed1-9854-cb258b48ffd8",
        "colab": {
          "base_uri": "https://localhost:8080/",
          "height": 51
        }
      },
      "source": [
        "Get_score(short_pred, short_y_test)\n",
        "Get_score(long_pred, long_y_test)"
      ],
      "execution_count": 0,
      "outputs": [
        {
          "output_type": "stream",
          "text": [
            "The Spearman's correlation coefficient is: 0.373\n",
            "The Spearman's correlation coefficient is: 0.228\n"
          ],
          "name": "stdout"
        }
      ]
    },
    {
      "cell_type": "code",
      "metadata": {
        "id": "6nBuL0qeyOOd",
        "colab_type": "code",
        "colab": {}
      },
      "source": [
        "#Random Forest with Captions"
      ],
      "execution_count": 0,
      "outputs": []
    },
    {
      "cell_type": "code",
      "metadata": {
        "id": "o1CCoVYNyUjD",
        "colab_type": "code",
        "colab": {}
      },
      "source": [
        "X = captions_bag\n",
        "y = dataset[['short-term_memorability','long-term_memorability']].values"
      ],
      "execution_count": 0,
      "outputs": []
    },
    {
      "cell_type": "code",
      "metadata": {
        "id": "fEIzxpC8yWdO",
        "colab_type": "code",
        "colab": {}
      },
      "source": [
        "# Splitting the dataset into the Training set and Test set\n",
        "X_train,X_test,y_train,y_test = train_test_split(X,y,test_size=0.2,random_state=42)"
      ],
      "execution_count": 0,
      "outputs": []
    },
    {
      "cell_type": "code",
      "metadata": {
        "id": "aXwrx2RqydWl",
        "colab_type": "code",
        "colab": {}
      },
      "source": [
        "from sklearn.ensemble import RandomForestRegressor\n",
        "captions_rf = RandomForestRegressor(n_estimators=50,random_state=45)"
      ],
      "execution_count": 0,
      "outputs": []
    },
    {
      "cell_type": "code",
      "metadata": {
        "id": "_vUN0i1_yhTv",
        "colab_type": "code",
        "outputId": "c587073d-a30a-44e5-8692-82af23d310d0",
        "colab": {
          "base_uri": "https://localhost:8080/",
          "height": 136
        }
      },
      "source": [
        "captions_rf.fit(X_train,y_train)"
      ],
      "execution_count": 0,
      "outputs": [
        {
          "output_type": "execute_result",
          "data": {
            "text/plain": [
              "RandomForestRegressor(bootstrap=True, ccp_alpha=0.0, criterion='mse',\n",
              "                      max_depth=None, max_features='auto', max_leaf_nodes=None,\n",
              "                      max_samples=None, min_impurity_decrease=0.0,\n",
              "                      min_impurity_split=None, min_samples_leaf=1,\n",
              "                      min_samples_split=2, min_weight_fraction_leaf=0.0,\n",
              "                      n_estimators=50, n_jobs=None, oob_score=False,\n",
              "                      random_state=45, verbose=0, warm_start=False)"
            ]
          },
          "metadata": {
            "tags": []
          },
          "execution_count": 89
        }
      ]
    },
    {
      "cell_type": "code",
      "metadata": {
        "id": "jkKE5x_b1QHD",
        "colab_type": "code",
        "colab": {}
      },
      "source": [
        "captions_pred = captions_rf.predict(X_test)"
      ],
      "execution_count": 0,
      "outputs": []
    },
    {
      "cell_type": "code",
      "metadata": {
        "id": "kNCJGD_K07Ib",
        "colab_type": "code",
        "outputId": "fb07dae4-a8d0-49a6-e982-06ede91c8210",
        "colab": {
          "base_uri": "https://localhost:8080/",
          "height": 51
        }
      },
      "source": [
        "Get_score(captions_pred, y_test)"
      ],
      "execution_count": 0,
      "outputs": [
        {
          "output_type": "stream",
          "text": [
            "The Spearman's correlation coefficient is: 0.404\n",
            "The Spearman's correlation coefficient is: 0.171\n"
          ],
          "name": "stdout"
        }
      ]
    },
    {
      "cell_type": "code",
      "metadata": {
        "id": "jqGXVboU43yR",
        "colab_type": "code",
        "colab": {}
      },
      "source": [
        "#Random Forest with C3D"
      ],
      "execution_count": 0,
      "outputs": []
    },
    {
      "cell_type": "code",
      "metadata": {
        "id": "AqA8maYk47hL",
        "colab_type": "code",
        "colab": {}
      },
      "source": [
        "X = c3dfeatures\n",
        "y = dataset[['short-term_memorability','long-term_memorability']].values"
      ],
      "execution_count": 0,
      "outputs": []
    },
    {
      "cell_type": "code",
      "metadata": {
        "id": "VF0buhHP472d",
        "colab_type": "code",
        "colab": {}
      },
      "source": [
        "# Splitting the dataset into the Training set and Test set\n",
        "X_train,X_test,y_train,y_test = train_test_split(X,y,test_size=0.2,random_state=42)"
      ],
      "execution_count": 0,
      "outputs": []
    },
    {
      "cell_type": "code",
      "metadata": {
        "id": "tLvTrVWM48Ls",
        "colab_type": "code",
        "colab": {}
      },
      "source": [
        "from sklearn.ensemble import RandomForestRegressor\n",
        "rf_regressor = RandomForestRegressor(n_estimators=5,random_state=42,verbose=2)"
      ],
      "execution_count": 0,
      "outputs": []
    },
    {
      "cell_type": "code",
      "metadata": {
        "id": "dZl3mg7048ge",
        "colab_type": "code",
        "outputId": "5a0c7606-bf4c-4888-83c3-0c088cb88410",
        "colab": {
          "base_uri": "https://localhost:8080/",
          "height": 272
        }
      },
      "source": [
        "rf_regressor.fit(X_train,y_train)"
      ],
      "execution_count": 0,
      "outputs": [
        {
          "output_type": "stream",
          "text": [
            "building tree 1 of 5\n"
          ],
          "name": "stdout"
        },
        {
          "output_type": "stream",
          "text": [
            "[Parallel(n_jobs=1)]: Using backend SequentialBackend with 1 concurrent workers.\n",
            "[Parallel(n_jobs=1)]: Done   1 out of   1 | elapsed:    0.4s remaining:    0.0s\n"
          ],
          "name": "stderr"
        },
        {
          "output_type": "stream",
          "text": [
            "building tree 2 of 5\n",
            "building tree 3 of 5\n",
            "building tree 4 of 5\n",
            "building tree 5 of 5\n"
          ],
          "name": "stdout"
        },
        {
          "output_type": "stream",
          "text": [
            "[Parallel(n_jobs=1)]: Done   5 out of   5 | elapsed:    2.1s finished\n"
          ],
          "name": "stderr"
        },
        {
          "output_type": "execute_result",
          "data": {
            "text/plain": [
              "RandomForestRegressor(bootstrap=True, ccp_alpha=0.0, criterion='mse',\n",
              "                      max_depth=None, max_features='auto', max_leaf_nodes=None,\n",
              "                      max_samples=None, min_impurity_decrease=0.0,\n",
              "                      min_impurity_split=None, min_samples_leaf=1,\n",
              "                      min_samples_split=2, min_weight_fraction_leaf=0.0,\n",
              "                      n_estimators=5, n_jobs=None, oob_score=False,\n",
              "                      random_state=42, verbose=2, warm_start=False)"
            ]
          },
          "metadata": {
            "tags": []
          },
          "execution_count": 95
        }
      ]
    },
    {
      "cell_type": "code",
      "metadata": {
        "id": "VY1n8eZ85JdN",
        "colab_type": "code",
        "outputId": "807e23c1-b7a3-44ec-de5a-f922542a753f",
        "colab": {
          "base_uri": "https://localhost:8080/",
          "height": 68
        }
      },
      "source": [
        "C3D_pred = rf_regressor.predict(X_test)"
      ],
      "execution_count": 0,
      "outputs": [
        {
          "output_type": "stream",
          "text": [
            "[Parallel(n_jobs=1)]: Using backend SequentialBackend with 1 concurrent workers.\n",
            "[Parallel(n_jobs=1)]: Done   1 out of   1 | elapsed:    0.0s remaining:    0.0s\n",
            "[Parallel(n_jobs=1)]: Done   5 out of   5 | elapsed:    0.0s finished\n"
          ],
          "name": "stderr"
        }
      ]
    },
    {
      "cell_type": "code",
      "metadata": {
        "id": "-cDG6ZCi5Jyl",
        "colab_type": "code",
        "outputId": "6ad72021-332a-4111-9a47-9385f11047a8",
        "colab": {
          "base_uri": "https://localhost:8080/",
          "height": 51
        }
      },
      "source": [
        "Get_score(C3D_pred, y_test)"
      ],
      "execution_count": 0,
      "outputs": [
        {
          "output_type": "stream",
          "text": [
            "The Spearman's correlation coefficient is: 0.183\n",
            "The Spearman's correlation coefficient is: 0.066\n"
          ],
          "name": "stdout"
        }
      ]
    },
    {
      "cell_type": "code",
      "metadata": {
        "id": "aaiFJDbo7Txe",
        "colab_type": "code",
        "colab": {}
      },
      "source": [
        "#Random Forest with HMP"
      ],
      "execution_count": 0,
      "outputs": []
    },
    {
      "cell_type": "code",
      "metadata": {
        "id": "s0x6-g-H7ZNw",
        "colab_type": "code",
        "colab": {}
      },
      "source": [
        "X = hmp_features\n",
        "y = dataset[['short-term_memorability','long-term_memorability']].values"
      ],
      "execution_count": 0,
      "outputs": []
    },
    {
      "cell_type": "code",
      "metadata": {
        "id": "b0NJnJ_a8t4I",
        "colab_type": "code",
        "colab": {}
      },
      "source": [
        "# Splitting the dataset into the Training set and Test set\n",
        "X_train,X_test,y_train,y_test = train_test_split(X,y,test_size=0.2,random_state=42)"
      ],
      "execution_count": 0,
      "outputs": []
    },
    {
      "cell_type": "code",
      "metadata": {
        "id": "AqT53ko39BJ9",
        "colab_type": "code",
        "colab": {}
      },
      "source": [
        "from sklearn.ensemble import RandomForestRegressor\n",
        "rf_regressor = RandomForestRegressor(n_estimators=10,random_state=45,verbose=2)"
      ],
      "execution_count": 0,
      "outputs": []
    },
    {
      "cell_type": "code",
      "metadata": {
        "id": "ytPAoAOX9HX8",
        "colab_type": "code",
        "outputId": "403d140b-37e5-4fe2-df67-0e7983d92278",
        "colab": {
          "base_uri": "https://localhost:8080/",
          "height": 357
        }
      },
      "source": [
        "rf_regressor.fit(X_train,y_train)"
      ],
      "execution_count": 0,
      "outputs": [
        {
          "output_type": "stream",
          "text": [
            "[Parallel(n_jobs=1)]: Using backend SequentialBackend with 1 concurrent workers.\n"
          ],
          "name": "stderr"
        },
        {
          "output_type": "stream",
          "text": [
            "building tree 1 of 10\n"
          ],
          "name": "stdout"
        },
        {
          "output_type": "stream",
          "text": [
            "[Parallel(n_jobs=1)]: Done   1 out of   1 | elapsed:   18.5s remaining:    0.0s\n"
          ],
          "name": "stderr"
        },
        {
          "output_type": "stream",
          "text": [
            "building tree 2 of 10\n",
            "building tree 3 of 10\n",
            "building tree 4 of 10\n",
            "building tree 5 of 10\n",
            "building tree 6 of 10\n",
            "building tree 7 of 10\n",
            "building tree 8 of 10\n",
            "building tree 9 of 10\n",
            "building tree 10 of 10\n"
          ],
          "name": "stdout"
        },
        {
          "output_type": "stream",
          "text": [
            "[Parallel(n_jobs=1)]: Done  10 out of  10 | elapsed:  2.9min finished\n"
          ],
          "name": "stderr"
        },
        {
          "output_type": "execute_result",
          "data": {
            "text/plain": [
              "RandomForestRegressor(bootstrap=True, ccp_alpha=0.0, criterion='mse',\n",
              "                      max_depth=None, max_features='auto', max_leaf_nodes=None,\n",
              "                      max_samples=None, min_impurity_decrease=0.0,\n",
              "                      min_impurity_split=None, min_samples_leaf=1,\n",
              "                      min_samples_split=2, min_weight_fraction_leaf=0.0,\n",
              "                      n_estimators=10, n_jobs=None, oob_score=False,\n",
              "                      random_state=45, verbose=2, warm_start=False)"
            ]
          },
          "metadata": {
            "tags": []
          },
          "execution_count": 102
        }
      ]
    },
    {
      "cell_type": "code",
      "metadata": {
        "id": "Sl0vSyNB9MVg",
        "colab_type": "code",
        "outputId": "68e101a6-18a5-4ed8-965a-4b4ccc12a31b",
        "colab": {
          "base_uri": "https://localhost:8080/",
          "height": 68
        }
      },
      "source": [
        "HMP_pred = rf_regressor.predict(X_test)"
      ],
      "execution_count": 0,
      "outputs": [
        {
          "output_type": "stream",
          "text": [
            "[Parallel(n_jobs=1)]: Using backend SequentialBackend with 1 concurrent workers.\n",
            "[Parallel(n_jobs=1)]: Done   1 out of   1 | elapsed:    0.0s remaining:    0.0s\n",
            "[Parallel(n_jobs=1)]: Done  10 out of  10 | elapsed:    0.0s finished\n"
          ],
          "name": "stderr"
        }
      ]
    },
    {
      "cell_type": "code",
      "metadata": {
        "id": "QDHEAf9c-FM3",
        "colab_type": "code",
        "outputId": "d577fb0d-48ae-4265-b1af-06cf1e494af3",
        "colab": {
          "base_uri": "https://localhost:8080/",
          "height": 51
        }
      },
      "source": [
        "Get_score(HMP_pred, y_test)"
      ],
      "execution_count": 0,
      "outputs": [
        {
          "output_type": "stream",
          "text": [
            "The Spearman's correlation coefficient is: 0.206\n",
            "The Spearman's correlation coefficient is: 0.083\n"
          ],
          "name": "stdout"
        }
      ]
    },
    {
      "cell_type": "code",
      "metadata": {
        "id": "t8ZkYVcaI54b",
        "colab_type": "code",
        "colab": {}
      },
      "source": [
        "#Create an ensemble using Weighted Average method"
      ],
      "execution_count": 0,
      "outputs": []
    },
    {
      "cell_type": "code",
      "metadata": {
        "id": "qp5qcOK3ML1Z",
        "colab_type": "code",
        "colab": {}
      },
      "source": [
        "predictions_weighted  = 0.50*captions_pred + 0.30*C3D_pred + 0.20*HMP_pred"
      ],
      "execution_count": 0,
      "outputs": []
    },
    {
      "cell_type": "code",
      "metadata": {
        "id": "VVeS5xMyMeSo",
        "colab_type": "code",
        "outputId": "1c52a86a-d267-4a9f-def0-a6e3ddf1f5ff",
        "colab": {
          "base_uri": "https://localhost:8080/",
          "height": 136
        }
      },
      "source": [
        "print(predictions_weighted)"
      ],
      "execution_count": 0,
      "outputs": [
        {
          "output_type": "stream",
          "text": [
            "[[0.8937505  0.7983405 ]\n",
            " [0.827635   0.80118417]\n",
            " [0.88743667 0.84975964]\n",
            " ...\n",
            " [0.86518    0.818078  ]\n",
            " [0.903692   0.791092  ]\n",
            " [0.8974775  0.84943107]]\n"
          ],
          "name": "stdout"
        }
      ]
    },
    {
      "cell_type": "code",
      "metadata": {
        "id": "MvfnW6jbMgbw",
        "colab_type": "code",
        "outputId": "25230428-90a0-4777-cb0c-aa0bafe263ea",
        "colab": {
          "base_uri": "https://localhost:8080/",
          "height": 170
        }
      },
      "source": [
        "#pred_out = model.predict(X_test)\n",
        "print(predictions_weighted)\n",
        "Get_score(predictions_weighted, y_test) # Try remember what the Spearman scores actually mean!"
      ],
      "execution_count": 0,
      "outputs": [
        {
          "output_type": "stream",
          "text": [
            "[[0.8937505  0.7983405 ]\n",
            " [0.827635   0.80118417]\n",
            " [0.88743667 0.84975964]\n",
            " ...\n",
            " [0.86518    0.818078  ]\n",
            " [0.903692   0.791092  ]\n",
            " [0.8974775  0.84943107]]\n",
            "The Spearman's correlation coefficient is: 0.403\n",
            "The Spearman's correlation coefficient is: 0.176\n"
          ],
          "name": "stdout"
        }
      ]
    },
    {
      "cell_type": "code",
      "metadata": {
        "id": "DpkMXkvkMrSI",
        "colab_type": "code",
        "colab": {}
      },
      "source": [
        "#SELECTING THE BEST MODEL WITH FEATURES"
      ],
      "execution_count": 0,
      "outputs": []
    },
    {
      "cell_type": "code",
      "metadata": {
        "id": "5xFpXE2CM66J",
        "colab_type": "code",
        "colab": {}
      },
      "source": [
        "#From the results, It is notable that Captions yielded the best performance with Random Forest model"
      ],
      "execution_count": 0,
      "outputs": []
    },
    {
      "cell_type": "code",
      "metadata": {
        "id": "ocr9ybp3M0qQ",
        "colab_type": "code",
        "outputId": "977000bd-dbae-4026-90c0-6e5cdfb8d3ac",
        "colab": {
          "base_uri": "https://localhost:8080/",
          "height": 51
        }
      },
      "source": [
        "Get_score(captions_pred, y_test)"
      ],
      "execution_count": 0,
      "outputs": [
        {
          "output_type": "stream",
          "text": [
            "The Spearman's correlation coefficient is: 0.404\n",
            "The Spearman's correlation coefficient is: 0.171\n"
          ],
          "name": "stdout"
        }
      ]
    },
    {
      "cell_type": "code",
      "metadata": {
        "id": "Mex1cANhM3La",
        "colab_type": "code",
        "colab": {}
      },
      "source": [
        "#Training full 6000 Dev-Set"
      ],
      "execution_count": 0,
      "outputs": []
    },
    {
      "cell_type": "code",
      "metadata": {
        "id": "sbHlejmRNA4E",
        "colab_type": "code",
        "colab": {}
      },
      "source": [
        "X = captions_bag\n",
        "y = dataset[['short-term_memorability','long-term_memorability']].values"
      ],
      "execution_count": 0,
      "outputs": []
    },
    {
      "cell_type": "code",
      "metadata": {
        "id": "W-R5s-G5NDjd",
        "colab_type": "code",
        "colab": {}
      },
      "source": [
        "from sklearn.ensemble import RandomForestRegressor\n",
        "rf_regressor = RandomForestRegressor(n_estimators=100,random_state=45)"
      ],
      "execution_count": 0,
      "outputs": []
    },
    {
      "cell_type": "code",
      "metadata": {
        "id": "cv2Ou6H-NGF0",
        "colab_type": "code",
        "outputId": "22a07345-a218-47b7-d279-6aaee3bb906a",
        "colab": {
          "base_uri": "https://localhost:8080/",
          "height": 136
        }
      },
      "source": [
        "rf_regressor.fit(X,y)"
      ],
      "execution_count": 0,
      "outputs": [
        {
          "output_type": "execute_result",
          "data": {
            "text/plain": [
              "RandomForestRegressor(bootstrap=True, ccp_alpha=0.0, criterion='mse',\n",
              "                      max_depth=None, max_features='auto', max_leaf_nodes=None,\n",
              "                      max_samples=None, min_impurity_decrease=0.0,\n",
              "                      min_impurity_split=None, min_samples_leaf=1,\n",
              "                      min_samples_split=2, min_weight_fraction_leaf=0.0,\n",
              "                      n_estimators=100, n_jobs=None, oob_score=False,\n",
              "                      random_state=45, verbose=0, warm_start=False)"
            ]
          },
          "metadata": {
            "tags": []
          },
          "execution_count": 117
        }
      ]
    },
    {
      "cell_type": "code",
      "metadata": {
        "id": "qtHATqYKNIOm",
        "colab_type": "code",
        "colab": {}
      },
      "source": [
        "#We have trained our model for full 6000 Dev-set."
      ],
      "execution_count": 0,
      "outputs": []
    },
    {
      "cell_type": "code",
      "metadata": {
        "id": "VJDxz5QxWKYA",
        "colab_type": "code",
        "colab": {}
      },
      "source": [
        "#Importing Test Dataset and Captions"
      ],
      "execution_count": 0,
      "outputs": []
    },
    {
      "cell_type": "code",
      "metadata": {
        "id": "NLlFjzQZWSla",
        "colab_type": "code",
        "colab": {}
      },
      "source": [
        "#load the test set captions\n",
        "test_captions_path ='./Test-set/Captions_test/test-set-1_video-captions.txt'\n",
        "test_captions = load_captions(test_captions_path)"
      ],
      "execution_count": 0,
      "outputs": []
    },
    {
      "cell_type": "code",
      "metadata": {
        "id": "tXE8psy8WXQl",
        "colab_type": "code",
        "outputId": "eec6151c-abbc-4d4d-f139-1d73df89f16d",
        "colab": {
          "base_uri": "https://localhost:8080/",
          "height": 204
        }
      },
      "source": [
        "test_captions.head()"
      ],
      "execution_count": 0,
      "outputs": [
        {
          "output_type": "execute_result",
          "data": {
            "text/html": [
              "<div>\n",
              "<style scoped>\n",
              "    .dataframe tbody tr th:only-of-type {\n",
              "        vertical-align: middle;\n",
              "    }\n",
              "\n",
              "    .dataframe tbody tr th {\n",
              "        vertical-align: top;\n",
              "    }\n",
              "\n",
              "    .dataframe thead th {\n",
              "        text-align: right;\n",
              "    }\n",
              "</style>\n",
              "<table border=\"1\" class=\"dataframe\">\n",
              "  <thead>\n",
              "    <tr style=\"text-align: right;\">\n",
              "      <th></th>\n",
              "      <th>video</th>\n",
              "      <th>caption</th>\n",
              "    </tr>\n",
              "  </thead>\n",
              "  <tbody>\n",
              "    <tr>\n",
              "      <th>0</th>\n",
              "      <td>video7494.webm</td>\n",
              "      <td>green-jeep-struggling-to-drive-over-huge-rocks</td>\n",
              "    </tr>\n",
              "    <tr>\n",
              "      <th>1</th>\n",
              "      <td>video7495.webm</td>\n",
              "      <td>hiking-woman-tourist-is-walking-forward-in-mou...</td>\n",
              "    </tr>\n",
              "    <tr>\n",
              "      <th>2</th>\n",
              "      <td>video7496.webm</td>\n",
              "      <td>close-up-of-african-american-doctors-hands-usi...</td>\n",
              "    </tr>\n",
              "    <tr>\n",
              "      <th>3</th>\n",
              "      <td>video7497.webm</td>\n",
              "      <td>slow-motion-of-a-man-using-treadmill-in-the-gy...</td>\n",
              "    </tr>\n",
              "    <tr>\n",
              "      <th>4</th>\n",
              "      <td>video7498.webm</td>\n",
              "      <td>slow-motion-of-photographer-in-national-park</td>\n",
              "    </tr>\n",
              "  </tbody>\n",
              "</table>\n",
              "</div>"
            ],
            "text/plain": [
              "            video                                            caption\n",
              "0  video7494.webm     green-jeep-struggling-to-drive-over-huge-rocks\n",
              "1  video7495.webm  hiking-woman-tourist-is-walking-forward-in-mou...\n",
              "2  video7496.webm  close-up-of-african-american-doctors-hands-usi...\n",
              "3  video7497.webm  slow-motion-of-a-man-using-treadmill-in-the-gy...\n",
              "4  video7498.webm       slow-motion-of-photographer-in-national-park"
            ]
          },
          "metadata": {
            "tags": []
          },
          "execution_count": 123
        }
      ]
    },
    {
      "cell_type": "code",
      "metadata": {
        "id": "TkjobqB_Wlhp",
        "colab_type": "code",
        "outputId": "160ac067-0816-497a-edb4-8742c469472b",
        "colab": {
          "base_uri": "https://localhost:8080/",
          "height": 34
        }
      },
      "source": [
        "#printing the dimensions of test-set dataset and features\n",
        "print(f'Test-Captions: {test_captions.shape}')"
      ],
      "execution_count": 0,
      "outputs": [
        {
          "output_type": "stream",
          "text": [
            "Test-Captions: (2000, 2)\n"
          ],
          "name": "stdout"
        }
      ]
    },
    {
      "cell_type": "code",
      "metadata": {
        "id": "J3ZGGfCjWrw-",
        "colab_type": "code",
        "outputId": "f959a15d-b276-4a23-b7f9-a8482e7fc179",
        "colab": {
          "base_uri": "https://localhost:8080/",
          "height": 68
        }
      },
      "source": [
        "#Removing punctuations and stop words from captions\n",
        "# setup prograss tracker\n",
        "pbar = pyprind.ProgBar(len(test_captions['caption']), title='Counting word occurrences')\n",
        "for i, cap in enumerate(test_captions['caption']):\n",
        "    # replace punctuations with space\n",
        "    # convert words to lower case \n",
        "    text = ''.join([c if c not in punctuation else ' ' for c in cap]).lower()\n",
        "    #removing stopwords\n",
        "    rmv_stopwords= ' '.join([word for word in text.split() if word not in stopwords])\n",
        "    test_captions.loc[i,'caption'] = rmv_stopwords #updating the original captions \n",
        "    pbar.update()"
      ],
      "execution_count": 0,
      "outputs": [
        {
          "output_type": "stream",
          "text": [
            "Counting word occurrences\n",
            "0% [##############################] 100% | ETA: 00:00:00\n",
            "Total time elapsed: 00:00:00\n"
          ],
          "name": "stderr"
        }
      ]
    },
    {
      "cell_type": "code",
      "metadata": {
        "id": "juWXUMbnWzjS",
        "colab_type": "code",
        "outputId": "3d8ce945-c242-4bd4-dac3-2949f5dbd22c",
        "colab": {
          "base_uri": "https://localhost:8080/",
          "height": 204
        }
      },
      "source": [
        "test_captions.head()"
      ],
      "execution_count": 0,
      "outputs": [
        {
          "output_type": "execute_result",
          "data": {
            "text/html": [
              "<div>\n",
              "<style scoped>\n",
              "    .dataframe tbody tr th:only-of-type {\n",
              "        vertical-align: middle;\n",
              "    }\n",
              "\n",
              "    .dataframe tbody tr th {\n",
              "        vertical-align: top;\n",
              "    }\n",
              "\n",
              "    .dataframe thead th {\n",
              "        text-align: right;\n",
              "    }\n",
              "</style>\n",
              "<table border=\"1\" class=\"dataframe\">\n",
              "  <thead>\n",
              "    <tr style=\"text-align: right;\">\n",
              "      <th></th>\n",
              "      <th>video</th>\n",
              "      <th>caption</th>\n",
              "    </tr>\n",
              "  </thead>\n",
              "  <tbody>\n",
              "    <tr>\n",
              "      <th>0</th>\n",
              "      <td>video7494.webm</td>\n",
              "      <td>green jeep struggling drive huge rocks</td>\n",
              "    </tr>\n",
              "    <tr>\n",
              "      <th>1</th>\n",
              "      <td>video7495.webm</td>\n",
              "      <td>hiking woman tourist walking forward mountains...</td>\n",
              "    </tr>\n",
              "    <tr>\n",
              "      <th>2</th>\n",
              "      <td>video7496.webm</td>\n",
              "      <td>close african american doctors hands using sph...</td>\n",
              "    </tr>\n",
              "    <tr>\n",
              "      <th>3</th>\n",
              "      <td>video7497.webm</td>\n",
              "      <td>slow motion man using treadmill gym regular ph...</td>\n",
              "    </tr>\n",
              "    <tr>\n",
              "      <th>4</th>\n",
              "      <td>video7498.webm</td>\n",
              "      <td>slow motion photographer national park</td>\n",
              "    </tr>\n",
              "  </tbody>\n",
              "</table>\n",
              "</div>"
            ],
            "text/plain": [
              "            video                                            caption\n",
              "0  video7494.webm             green jeep struggling drive huge rocks\n",
              "1  video7495.webm  hiking woman tourist walking forward mountains...\n",
              "2  video7496.webm  close african american doctors hands using sph...\n",
              "3  video7497.webm  slow motion man using treadmill gym regular ph...\n",
              "4  video7498.webm             slow motion photographer national park"
            ]
          },
          "metadata": {
            "tags": []
          },
          "execution_count": 127
        }
      ]
    },
    {
      "cell_type": "code",
      "metadata": {
        "id": "dIJLC5mgW0Kt",
        "colab_type": "code",
        "outputId": "9c2fe92c-3e23-4d5c-bd2b-2bbc13d5e84b",
        "colab": {
          "base_uri": "https://localhost:8080/",
          "height": 34
        }
      },
      "source": [
        "#implementing bag of words for the combined captions\n",
        "from sklearn.feature_extraction.text import CountVectorizer\n",
        "vectorizer = CountVectorizer(analyzer = \"word\",max_features=3122) \n",
        "test_captions_bag = vectorizer.fit_transform(test_captions.caption).toarray()\n",
        "type(test_captions_bag)"
      ],
      "execution_count": 0,
      "outputs": [
        {
          "output_type": "execute_result",
          "data": {
            "text/plain": [
              "numpy.ndarray"
            ]
          },
          "metadata": {
            "tags": []
          },
          "execution_count": 128
        }
      ]
    },
    {
      "cell_type": "code",
      "metadata": {
        "id": "D-WsJk21W4dD",
        "colab_type": "code",
        "outputId": "ab4644e1-5a8e-4693-e79a-717b756d6369",
        "colab": {
          "base_uri": "https://localhost:8080/",
          "height": 51
        }
      },
      "source": [
        "#print(f'Testing Bag of words size     : {len(test_captions_bag)}')\n",
        "#print(f'Development Bag of words size : {len(captions_bag)}')\n",
        "print(f'Development Vocabulary Size   : {len(captions_bag[0])}')\n",
        "print(f'Testing Vocabulary Size       : {len(test_captions_bag[0])}')"
      ],
      "execution_count": 0,
      "outputs": [
        {
          "output_type": "stream",
          "text": [
            "Development Vocabulary Size   : 3112\n",
            "Testing Vocabulary Size       : 3112\n"
          ],
          "name": "stdout"
        }
      ]
    },
    {
      "cell_type": "code",
      "metadata": {
        "id": "hN1NsstaW7wq",
        "colab_type": "code",
        "colab": {}
      },
      "source": [
        "#Predicting the scores and Exporting the Results"
      ],
      "execution_count": 0,
      "outputs": []
    },
    {
      "cell_type": "code",
      "metadata": {
        "id": "QW1huMy8XGY0",
        "colab_type": "code",
        "colab": {}
      },
      "source": [
        "test_pred = rf_regressor.predict(test_captions_bag)"
      ],
      "execution_count": 0,
      "outputs": []
    },
    {
      "cell_type": "code",
      "metadata": {
        "id": "u_q9f5eqXISL",
        "colab_type": "code",
        "colab": {}
      },
      "source": [
        "pred = pd.DataFrame()"
      ],
      "execution_count": 0,
      "outputs": []
    },
    {
      "cell_type": "code",
      "metadata": {
        "id": "hQqcRikHXKWE",
        "colab_type": "code",
        "colab": {}
      },
      "source": [
        "pred['short-term'] = test_pred[:,0]"
      ],
      "execution_count": 0,
      "outputs": []
    },
    {
      "cell_type": "code",
      "metadata": {
        "id": "H8rwyxlrXMyv",
        "colab_type": "code",
        "colab": {}
      },
      "source": [
        "pred['long-term'] = test_pred[:,1]"
      ],
      "execution_count": 0,
      "outputs": []
    },
    {
      "cell_type": "code",
      "metadata": {
        "id": "jpfPyVrpXOxf",
        "colab_type": "code",
        "outputId": "58f6b64c-f8fa-429a-b94d-fe07c760b960",
        "colab": {
          "base_uri": "https://localhost:8080/",
          "height": 204
        }
      },
      "source": [
        "pred.head()"
      ],
      "execution_count": 0,
      "outputs": [
        {
          "output_type": "execute_result",
          "data": {
            "text/html": [
              "<div>\n",
              "<style scoped>\n",
              "    .dataframe tbody tr th:only-of-type {\n",
              "        vertical-align: middle;\n",
              "    }\n",
              "\n",
              "    .dataframe tbody tr th {\n",
              "        vertical-align: top;\n",
              "    }\n",
              "\n",
              "    .dataframe thead th {\n",
              "        text-align: right;\n",
              "    }\n",
              "</style>\n",
              "<table border=\"1\" class=\"dataframe\">\n",
              "  <thead>\n",
              "    <tr style=\"text-align: right;\">\n",
              "      <th></th>\n",
              "      <th>short-term</th>\n",
              "      <th>long-term</th>\n",
              "    </tr>\n",
              "  </thead>\n",
              "  <tbody>\n",
              "    <tr>\n",
              "      <th>0</th>\n",
              "      <td>0.854635</td>\n",
              "      <td>0.712699</td>\n",
              "    </tr>\n",
              "    <tr>\n",
              "      <th>1</th>\n",
              "      <td>0.898883</td>\n",
              "      <td>0.781500</td>\n",
              "    </tr>\n",
              "    <tr>\n",
              "      <th>2</th>\n",
              "      <td>0.841901</td>\n",
              "      <td>0.805625</td>\n",
              "    </tr>\n",
              "    <tr>\n",
              "      <th>3</th>\n",
              "      <td>0.915282</td>\n",
              "      <td>0.826990</td>\n",
              "    </tr>\n",
              "    <tr>\n",
              "      <th>4</th>\n",
              "      <td>0.866134</td>\n",
              "      <td>0.711727</td>\n",
              "    </tr>\n",
              "  </tbody>\n",
              "</table>\n",
              "</div>"
            ],
            "text/plain": [
              "   short-term  long-term\n",
              "0    0.854635   0.712699\n",
              "1    0.898883   0.781500\n",
              "2    0.841901   0.805625\n",
              "3    0.915282   0.826990\n",
              "4    0.866134   0.711727"
            ]
          },
          "metadata": {
            "tags": []
          },
          "execution_count": 135
        }
      ]
    },
    {
      "cell_type": "code",
      "metadata": {
        "id": "fcLN6ssFXQby",
        "colab_type": "code",
        "outputId": "e20d70bf-13b0-4d01-c72b-0b9b03255aac",
        "colab": {
          "base_uri": "https://localhost:8080/",
          "height": 297
        }
      },
      "source": [
        "pred.describe()"
      ],
      "execution_count": 0,
      "outputs": [
        {
          "output_type": "execute_result",
          "data": {
            "text/html": [
              "<div>\n",
              "<style scoped>\n",
              "    .dataframe tbody tr th:only-of-type {\n",
              "        vertical-align: middle;\n",
              "    }\n",
              "\n",
              "    .dataframe tbody tr th {\n",
              "        vertical-align: top;\n",
              "    }\n",
              "\n",
              "    .dataframe thead th {\n",
              "        text-align: right;\n",
              "    }\n",
              "</style>\n",
              "<table border=\"1\" class=\"dataframe\">\n",
              "  <thead>\n",
              "    <tr style=\"text-align: right;\">\n",
              "      <th></th>\n",
              "      <th>short-term</th>\n",
              "      <th>long-term</th>\n",
              "    </tr>\n",
              "  </thead>\n",
              "  <tbody>\n",
              "    <tr>\n",
              "      <th>count</th>\n",
              "      <td>2000.000000</td>\n",
              "      <td>2000.000000</td>\n",
              "    </tr>\n",
              "    <tr>\n",
              "      <th>mean</th>\n",
              "      <td>0.848028</td>\n",
              "      <td>0.751163</td>\n",
              "    </tr>\n",
              "    <tr>\n",
              "      <th>std</th>\n",
              "      <td>0.034564</td>\n",
              "      <td>0.067863</td>\n",
              "    </tr>\n",
              "    <tr>\n",
              "      <th>min</th>\n",
              "      <td>0.687093</td>\n",
              "      <td>0.397318</td>\n",
              "    </tr>\n",
              "    <tr>\n",
              "      <th>25%</th>\n",
              "      <td>0.830368</td>\n",
              "      <td>0.721224</td>\n",
              "    </tr>\n",
              "    <tr>\n",
              "      <th>50%</th>\n",
              "      <td>0.849698</td>\n",
              "      <td>0.757218</td>\n",
              "    </tr>\n",
              "    <tr>\n",
              "      <th>75%</th>\n",
              "      <td>0.871004</td>\n",
              "      <td>0.792872</td>\n",
              "    </tr>\n",
              "    <tr>\n",
              "      <th>max</th>\n",
              "      <td>0.953749</td>\n",
              "      <td>0.949478</td>\n",
              "    </tr>\n",
              "  </tbody>\n",
              "</table>\n",
              "</div>"
            ],
            "text/plain": [
              "        short-term    long-term\n",
              "count  2000.000000  2000.000000\n",
              "mean      0.848028     0.751163\n",
              "std       0.034564     0.067863\n",
              "min       0.687093     0.397318\n",
              "25%       0.830368     0.721224\n",
              "50%       0.849698     0.757218\n",
              "75%       0.871004     0.792872\n",
              "max       0.953749     0.949478"
            ]
          },
          "metadata": {
            "tags": []
          },
          "execution_count": 136
        }
      ]
    },
    {
      "cell_type": "code",
      "metadata": {
        "id": "JfKbOf5xXUVX",
        "colab_type": "code",
        "colab": {}
      },
      "source": [
        "os.chdir('/content/gdrive/My Drive/CA684_Output/')"
      ],
      "execution_count": 0,
      "outputs": []
    },
    {
      "cell_type": "code",
      "metadata": {
        "id": "_d38MQSgXz50",
        "colab_type": "code",
        "colab": {}
      },
      "source": [
        "pred.to_csv('/content/gdrive/My Drive/CA684_Output/CA684_Results.csv',index=False)"
      ],
      "execution_count": 0,
      "outputs": []
    },
    {
      "cell_type": "code",
      "metadata": {
        "id": "PR949MSJYZrs",
        "colab_type": "code",
        "colab": {}
      },
      "source": [
        ""
      ],
      "execution_count": 0,
      "outputs": []
    }
  ]
}